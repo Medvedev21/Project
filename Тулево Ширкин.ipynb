{
 "cells": [
  {
   "attachments": {},
   "cell_type": "markdown",
   "id": "1ddea6b5",
   "metadata": {},
   "source": [
    "### Метод дихотомии"
   ]
  },
  {
   "cell_type": "code",
   "execution_count": 5,
   "id": "5978d2ad",
   "metadata": {},
   "outputs": [],
   "source": [
    "def dihotomy_method(function, a, b, tolerance):\n",
    "    \"\"\"\n",
    "    Метод дихотомии для нахождения приближенного значения корня уравнения.\n",
    "\n",
    "    Параметры:\n",
    "    - function: функция, для которой ищется корень (должна быть непрерывной на интервале [a, b])\n",
    "    - a, b: начальные границы интервала, в котором ищется корень\n",
    "    - tolerance: точность, при достижении которой метод останавливается\n",
    "\n",
    "    Возвращает:\n",
    "    - root: приближенное значение корня уравнения\n",
    "    \"\"\"\n",
    "\n",
    "    while abs(b - a) > tolerance:\n",
    "        c = (a + b) / 2  # Находим середину отрезка\n",
    "        if function(c) == 0:\n",
    "            return c  # Найден точный корень\n",
    "        elif function(a) * function(c) < 0:\n",
    "            b = c  # Корень находится в левой половине отрезка\n",
    "        else:\n",
    "            a = c  # Корень находится в правой половине отрезка\n",
    "\n",
    "    return (a + b) / 2  # Возвращаем середину отрезка как приближенное значение корня\n"
   ]
  },
  {
   "attachments": {},
   "cell_type": "markdown",
   "id": "87dc0e07",
   "metadata": {},
   "source": [
    "### Пример использования метода дихотомии для нахождения корня функции f(x) = x^2 - 4"
   ]
  },
  {
   "cell_type": "code",
   "execution_count": 6,
   "id": "6ddcec2e",
   "metadata": {},
   "outputs": [
    {
     "name": "stdout",
     "output_type": "stream",
     "text": [
      "Приближенное значение корня: -1.9970703125\n"
     ]
    }
   ],
   "source": [
    "def f(x):\n",
    "    return x**2 - 4\n",
    "\n",
    "root = dihotomy_method(f, -5, 5, 0.01)\n",
    "print(\"Приближенное значение корня:\", root)"
   ]
  },
  {
   "attachments": {},
   "cell_type": "markdown",
   "id": "ed2d2423",
   "metadata": {},
   "source": [
    "### Метод простых итераций"
   ]
  },
  {
   "cell_type": "code",
   "execution_count": 7,
   "id": "f3a41c86",
   "metadata": {},
   "outputs": [],
   "source": [
    "def simple_iteration_method(g, x0, tolerance, max_iterations):\n",
    "    \"\"\"\n",
    "    Метод простой итерации для решения уравнения f(x) = x.\n",
    "\n",
    "    Параметры:\n",
    "    - g: функция g(x), представляющая преобразование уравнения f(x) = x\n",
    "    - x0: начальное приближение\n",
    "    - tolerance: точность, при достижении которой метод останавливается\n",
    "    - max_iterations: максимальное количество итераций\n",
    "\n",
    "    Возвращает:\n",
    "    - root: приближенное значение корня уравнения\n",
    "    - num_iterations: количество выполненных итераций\n",
    "    \"\"\"\n",
    "    try:\n",
    "        x = x0\n",
    "        for i in range(max_iterations):\n",
    "            x_next = g(x)\n",
    "            if abs(x_next - x) < tolerance:\n",
    "                return x_next, i + 1  # Найдено приближенное значение корня\n",
    "            x = x_next\n",
    "    except TypeError:\n",
    "        print(\"Не хватило итераций\")"
   ]
  },
  {
   "attachments": {},
   "cell_type": "markdown",
   "id": "d8aadfa5",
   "metadata": {},
   "source": [
    "Метод хорд\n"
   ]
  },
  {
   "cell_type": "code",
   "execution_count": 11,
   "id": "157c0d3a",
   "metadata": {},
   "outputs": [
    {
     "name": "stdout",
     "output_type": "stream",
     "text": [
      "Достигнуто максимальное количество итераций\n",
      "Корень уравнения: 2.5\n",
      "Значение функции в корне: 2.25\n"
     ]
    }
   ],
   "source": [
    "def f(x):\n",
    "    # Задайте вашу функцию здесь\n",
    "    return x**2 - 4\n",
    "\n",
    "def chord_method(a, b, eps):\n",
    "    # a, b - начальные границы интервала\n",
    "    # eps - требуемая точность\n",
    "    max_iterations = 100  # Максимальное количество итераций\n",
    "    \n",
    "    iterations = 0  # Счетчик итераций\n",
    "    \n",
    "    while abs(f(b) - f(a)) > eps and iterations < max_iterations:\n",
    "        x = (a * f(b) - b * f(a)) / (f(b) - f(a))\n",
    "        \n",
    "        if f(x) * f(a) < 0:\n",
    "            b = x\n",
    "        else:\n",
    "            a = x\n",
    "        \n",
    "        iterations += 1\n",
    "\n",
    "    if iterations >= max_iterations:\n",
    "        print(\"Достигнуто максимальное количество итераций\")\n",
    "\n",
    "    return (a + b) / 2\n",
    "\n",
    "# Пример использования\n",
    "a = 1  # Левая граница интервала\n",
    "b = 3  # Правая граница интервала\n",
    "eps = 0.0001  # Точность\n",
    "\n",
    "root = chord_method(a, b, eps)\n",
    "print(\"Корень уравнения:\", root)\n",
    "print(\"Значение функции в корне:\", f(root))\n"
   ]
  },
  {
   "attachments": {},
   "cell_type": "markdown",
   "id": "b761c986",
   "metadata": {},
   "source": [
    "Метод ньютона !"
   ]
  },
  {
   "cell_type": "code",
   "execution_count": 12,
   "id": "88e01d90",
   "metadata": {},
   "outputs": [
    {
     "name": "stdout",
     "output_type": "stream",
     "text": [
      "Корень уравнения: 2\n",
      "Значение функции в корне: 0\n"
     ]
    }
   ],
   "source": [
    "def f(x):\n",
    "    # Задайте вашу функцию здесь\n",
    "    return x**2 - 4\n",
    "\n",
    "def f_derivative(x):\n",
    "    # Задайте производную вашей функции здесь\n",
    "    return 2*x\n",
    "\n",
    "def newton_method(x0, eps):\n",
    "    # x0 - начальное приближение\n",
    "    # eps - требуемая точность\n",
    "    \n",
    "    max_iterations = 100  # Максимальное количество итераций\n",
    "    \n",
    "    iterations = 0  # Счетчик итераций\n",
    "    \n",
    "    while abs(f(x0)) > eps and iterations < max_iterations:\n",
    "        x0 = x0 - f(x0) / f_derivative(x0)\n",
    "        \n",
    "        iterations += 1\n",
    "\n",
    "    if iterations >= max_iterations:\n",
    "        print(\"Достигнуто максимальное количество итераций\")\n",
    "\n",
    "    return x0\n",
    "\n",
    "# Пример использования\n",
    "x0 = 2  # Начальное приближение\n",
    "eps = 0.0001  # Точность\n",
    "\n",
    "root = newton_method(x0, eps)\n",
    "print(\"Корень уравнения:\", root)\n",
    "print(\"Значение функции в корне:\", f(root))\n",
    "\n"
   ]
  },
  {
   "attachments": {},
   "cell_type": "markdown",
   "id": "9d844692",
   "metadata": {},
   "source": [
    "Метод Ньютона-Бройдена !"
   ]
  },
  {
   "cell_type": "code",
   "execution_count": 13,
   "id": "4b3cd1d7",
   "metadata": {},
   "outputs": [
    {
     "name": "stdout",
     "output_type": "stream",
     "text": [
      "Корень уравнения: 2\n",
      "Значение функции в корне: 0\n"
     ]
    }
   ],
   "source": [
    "def f(x):\n",
    "    # Задайте вашу функцию здесь\n",
    "    return x**2 - 4\n",
    "\n",
    "def f_derivative(x):\n",
    "    # Задайте производную вашей функции здесь\n",
    "    return 2*x\n",
    "\n",
    "def newton_broyden_method(x0, eps):\n",
    "    # x0 - начальное приближение\n",
    "    # eps - требуемая точность\n",
    "    \n",
    "    max_iterations = 100  # Максимальное количество итераций\n",
    "    \n",
    "    iterations = 0  # Счетчик итераций\n",
    "    \n",
    "    while abs(f(x0)) > eps and iterations < max_iterations:\n",
    "        f_prime = f_derivative(x0)\n",
    "        x0 = x0 - f(x0) / f_prime\n",
    "        \n",
    "        iterations += 1\n",
    "\n",
    "    if iterations >= max_iterations:\n",
    "        print(\"Достигнуто максимальное количество итераций\")\n",
    "\n",
    "    return x0\n",
    "\n",
    "# Пример использования\n",
    "x0 = 2  # Начальное приближение\n",
    "eps = 0.0001  # Точность\n",
    "\n",
    "root = newton_broyden_method(x0, eps)\n",
    "print(\"Корень уравнения:\", root)\n",
    "print(\"Значение функции в корне:\", f(root))\n"
   ]
  },
  {
   "attachments": {},
   "cell_type": "markdown",
   "id": "928223e9",
   "metadata": {},
   "source": [
    "Упрощенный метод Ньютона"
   ]
  },
  {
   "cell_type": "code",
   "execution_count": 15,
   "id": "64d5965f",
   "metadata": {},
   "outputs": [
    {
     "name": "stdout",
     "output_type": "stream",
     "text": [
      "Корень уравнения: 2\n",
      "Значение функции в корне: 0\n"
     ]
    }
   ],
   "source": [
    "def f(x):\n",
    "    # Задайте вашу функцию здесь\n",
    "    return x**2 - 4\n",
    "\n",
    "def f_derivative(x):\n",
    "    # Задайте производную вашей функции здесь\n",
    "    return 2*x\n",
    "\n",
    "def simplified_newton_method(x0, eps):\n",
    "    # x0 - начальное приближение\n",
    "    # eps - требуемая точность\n",
    "    \n",
    "    max_iterations = 100  # Максимальное количество итераций\n",
    "    \n",
    "    iterations = 0  # Счетчик итераций\n",
    "    \n",
    "    while abs(f(x0)) > eps and iterations < max_iterations:\n",
    "        f_prime = f_derivative(x0)\n",
    "        x0 = x0 - f(x0) / f_prime\n",
    "        \n",
    "        iterations += 1\n",
    "\n",
    "    if iterations >= max_iterations:\n",
    "        print(\"Достигнуто максимальное количество итераций\")\n",
    "\n",
    "    return x0\n",
    "\n",
    "# Пример использования\n",
    "x0 = 2  # Начальное приближение\n",
    "eps = 0.0001  # Точность\n",
    "\n",
    "root = simplified_newton_method(x0, eps)\n",
    "print(\"Корень уравнения:\", root)\n",
    "print(\"Значение функции в корне:\", f(root))\n"
   ]
  },
  {
   "attachments": {},
   "cell_type": "markdown",
   "id": "2a3c852e",
   "metadata": {},
   "source": [
    "Метод секущих "
   ]
  },
  {
   "cell_type": "code",
   "execution_count": 16,
   "id": "2aecc6eb",
   "metadata": {},
   "outputs": [
    {
     "name": "stdout",
     "output_type": "stream",
     "text": [
      "Корень уравнения: 1.9999999578600827\n",
      "Значение функции в корне: -1.6855966755713325e-07\n"
     ]
    }
   ],
   "source": [
    "def f(x):\n",
    "    # Задайте вашу функцию здесь\n",
    "    return x**2 - 4\n",
    "\n",
    "def secant_method(x0, x1, eps):\n",
    "    # x0, x1 - начальные приближения\n",
    "    # eps - требуемая точность\n",
    "    \n",
    "    max_iterations = 100  # Максимальное количество итераций\n",
    "    \n",
    "    iterations = 0  # Счетчик итераций\n",
    "    \n",
    "    while abs(f(x1)) > eps and iterations < max_iterations:\n",
    "        f_x0 = f(x0)\n",
    "        f_x1 = f(x1)\n",
    "        \n",
    "        x2 = x1 - (f_x1 * (x1 - x0)) / (f_x1 - f_x0)\n",
    "        \n",
    "        x0 = x1\n",
    "        x1 = x2\n",
    "        \n",
    "        iterations += 1\n",
    "\n",
    "    if iterations >= max_iterations:\n",
    "        print(\"Достигнуто максимальное количество итераций\")\n",
    "\n",
    "    return x1\n",
    "\n",
    "# Пример использования\n",
    "x0 = 1  # Первое начальное приближение\n",
    "x1 = 3  # Второе начальное приближение\n",
    "eps = 0.0001  # Точность\n",
    "\n",
    "root = secant_method(x0, x1, eps)\n",
    "print(\"Корень уравнения:\", root)\n",
    "print(\"Значение функции в корне:\", f(root))\n"
   ]
  }
 ],
 "metadata": {
  "kernelspec": {
   "display_name": "Python 3 (ipykernel)",
   "language": "python",
   "name": "python3"
  },
  "language_info": {
   "codemirror_mode": {
    "name": "ipython",
    "version": 3
   },
   "file_extension": ".py",
   "mimetype": "text/x-python",
   "name": "python",
   "nbconvert_exporter": "python",
   "pygments_lexer": "ipython3",
   "version": "3.9.12"
  }
 },
 "nbformat": 4,
 "nbformat_minor": 5
}
