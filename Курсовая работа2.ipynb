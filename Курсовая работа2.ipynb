{
 "cells": [
  {
   "cell_type": "code",
   "execution_count": 1,
   "id": "ed0532ba",
   "metadata": {},
   "outputs": [],
   "source": [
    "# Работа с данными \n",
    "import pandas as pd\n",
    "import numpy as np\n",
    "\n",
    "# Балансировка\n",
    "from imblearn.over_sampling import SMOTE\n",
    "\n",
    "# Разделение на обучающую и тестовую выборки\n",
    "from sklearn.model_selection import train_test_split\n",
    "\n",
    "# Классификаторы\n",
    "from sklearn.tree import DecisionTreeClassifier\n",
    "from catboost import CatBoostClassifier, Pool\n",
    "from sklearn.ensemble import RandomForestClassifier\n",
    "from sklearn.linear_model import LogisticRegression\n",
    "from sklearn.neighbors import KNeighborsClassifier\n",
    "from sklearn.ensemble import GradientBoostingClassifier\n",
    "from sklearn import tree\n",
    "\n",
    "# Оценка качества\n",
    "from yellowbrick.classifier import ROCAUC\n",
    "from catboost.utils import get_confusion_matrix\n",
    "from yellowbrick.contrib.wrapper import wrap\n",
    "\n",
    "# Визуалцияция результатов обучения\n",
    "from sklearn.metrics import confusion_matrix, ConfusionMatrixDisplay\n",
    "from yellowbrick.classifier import ConfusionMatrix\n",
    "import matplotlib.pyplot as plt\n",
    "\n",
    "#Заполнение пропусков\n",
    "from sklearn.impute import SimpleImputer\n"
   ]
  },
  {
   "cell_type": "markdown",
   "id": "f402dcef",
   "metadata": {},
   "source": [
    "### Задание 1"
   ]
  },
  {
   "cell_type": "code",
   "execution_count": 2,
   "id": "caf463ee",
   "metadata": {},
   "outputs": [
    {
     "name": "stderr",
     "output_type": "stream",
     "text": [
      "C:\\Users\\Fenomen21\\AppData\\Local\\Temp\\ipykernel_14676\\162387297.py:4: DtypeWarning: Columns (113,116,119,122,125) have mixed types. Specify dtype option on import or set low_memory=False.\n",
      "  data_feature = pd.read_csv('feature_data_new_mini.csv')\n"
     ]
    }
   ],
   "source": [
    "#1.1\n",
    "#загрузка датасетов\n",
    "data_goal = pd.read_csv('goal_cipher.csv')\n",
    "data_feature = pd.read_csv('feature_data_new_mini.csv')"
   ]
  },
  {
   "cell_type": "code",
   "execution_count": 3,
   "id": "df026034",
   "metadata": {},
   "outputs": [
    {
     "data": {
      "text/html": [
       "<div>\n",
       "<style scoped>\n",
       "    .dataframe tbody tr th:only-of-type {\n",
       "        vertical-align: middle;\n",
       "    }\n",
       "\n",
       "    .dataframe tbody tr th {\n",
       "        vertical-align: top;\n",
       "    }\n",
       "\n",
       "    .dataframe thead th {\n",
       "        text-align: right;\n",
       "    }\n",
       "</style>\n",
       "<table border=\"1\" class=\"dataframe\">\n",
       "  <thead>\n",
       "    <tr style=\"text-align: right;\">\n",
       "      <th></th>\n",
       "      <th>Unnamed: 0</th>\n",
       "      <th>ser_loc</th>\n",
       "      <th>zns_loc</th>\n",
       "      <th>prs_loc</th>\n",
       "      <th>year_month</th>\n",
       "      <th>fail_place</th>\n",
       "      <th>fail_reason</th>\n",
       "      <th>fail_type</th>\n",
       "      <th>day</th>\n",
       "    </tr>\n",
       "  </thead>\n",
       "  <tbody>\n",
       "    <tr>\n",
       "      <th>0</th>\n",
       "      <td>0</td>\n",
       "      <td>134</td>\n",
       "      <td>171.0</td>\n",
       "      <td>1.0</td>\n",
       "      <td>2021-01</td>\n",
       "      <td>Дуриан</td>\n",
       "      <td>Момордика</td>\n",
       "      <td>Мармеладный плод</td>\n",
       "      <td>12</td>\n",
       "    </tr>\n",
       "    <tr>\n",
       "      <th>1</th>\n",
       "      <td>3</td>\n",
       "      <td>134</td>\n",
       "      <td>166.0</td>\n",
       "      <td>1.0</td>\n",
       "      <td>2021-01</td>\n",
       "      <td>Маракуйя</td>\n",
       "      <td>Либерика</td>\n",
       "      <td>Салакка</td>\n",
       "      <td>12</td>\n",
       "    </tr>\n",
       "    <tr>\n",
       "      <th>2</th>\n",
       "      <td>4</td>\n",
       "      <td>240</td>\n",
       "      <td>1068.0</td>\n",
       "      <td>1.0</td>\n",
       "      <td>2021-01</td>\n",
       "      <td>Земляной орех</td>\n",
       "      <td>Абрикос</td>\n",
       "      <td>Пара-гуайява</td>\n",
       "      <td>5</td>\n",
       "    </tr>\n",
       "    <tr>\n",
       "      <th>3</th>\n",
       "      <td>7</td>\n",
       "      <td>240</td>\n",
       "      <td>2200.0</td>\n",
       "      <td>1.0</td>\n",
       "      <td>2021-01</td>\n",
       "      <td>Маракуйя</td>\n",
       "      <td>Гранат</td>\n",
       "      <td>Мармеладный плод</td>\n",
       "      <td>17</td>\n",
       "    </tr>\n",
       "    <tr>\n",
       "      <th>4</th>\n",
       "      <td>9</td>\n",
       "      <td>240</td>\n",
       "      <td>2734.0</td>\n",
       "      <td>1.0</td>\n",
       "      <td>2021-01</td>\n",
       "      <td>Земляной орех</td>\n",
       "      <td>Бананы</td>\n",
       "      <td>Гнетум гнемон</td>\n",
       "      <td>4</td>\n",
       "    </tr>\n",
       "    <tr>\n",
       "      <th>...</th>\n",
       "      <td>...</td>\n",
       "      <td>...</td>\n",
       "      <td>...</td>\n",
       "      <td>...</td>\n",
       "      <td>...</td>\n",
       "      <td>...</td>\n",
       "      <td>...</td>\n",
       "      <td>...</td>\n",
       "      <td>...</td>\n",
       "    </tr>\n",
       "    <tr>\n",
       "      <th>53034</th>\n",
       "      <td>147570</td>\n",
       "      <td>240</td>\n",
       "      <td>1837.0</td>\n",
       "      <td>1.0</td>\n",
       "      <td>2018-11</td>\n",
       "      <td>Земляной орех</td>\n",
       "      <td>Свечное дерево</td>\n",
       "      <td>Мармеладный плод</td>\n",
       "      <td>11</td>\n",
       "    </tr>\n",
       "    <tr>\n",
       "      <th>53035</th>\n",
       "      <td>147572</td>\n",
       "      <td>145</td>\n",
       "      <td>84.0</td>\n",
       "      <td>1.0</td>\n",
       "      <td>2018-11</td>\n",
       "      <td>Земляной орех</td>\n",
       "      <td>Свечное дерево</td>\n",
       "      <td>Мармеладный плод</td>\n",
       "      <td>19</td>\n",
       "    </tr>\n",
       "    <tr>\n",
       "      <th>53036</th>\n",
       "      <td>147573</td>\n",
       "      <td>145</td>\n",
       "      <td>573.0</td>\n",
       "      <td>1.0</td>\n",
       "      <td>2018-11</td>\n",
       "      <td>Земляной орех</td>\n",
       "      <td>Огуречное дерево</td>\n",
       "      <td>Мармеладный плод</td>\n",
       "      <td>14</td>\n",
       "    </tr>\n",
       "    <tr>\n",
       "      <th>53037</th>\n",
       "      <td>147574</td>\n",
       "      <td>240</td>\n",
       "      <td>1506.0</td>\n",
       "      <td>2.0</td>\n",
       "      <td>2018-11</td>\n",
       "      <td>Земляной орех</td>\n",
       "      <td>Кумкват овальный</td>\n",
       "      <td>Горлянка</td>\n",
       "      <td>6</td>\n",
       "    </tr>\n",
       "    <tr>\n",
       "      <th>53038</th>\n",
       "      <td>147576</td>\n",
       "      <td>145</td>\n",
       "      <td>91.0</td>\n",
       "      <td>1.0</td>\n",
       "      <td>2018-11</td>\n",
       "      <td>Маракуйя</td>\n",
       "      <td>Луло</td>\n",
       "      <td>Мармеладный плод</td>\n",
       "      <td>29</td>\n",
       "    </tr>\n",
       "  </tbody>\n",
       "</table>\n",
       "<p>53039 rows × 9 columns</p>\n",
       "</div>"
      ],
      "text/plain": [
       "       Unnamed: 0  ser_loc  zns_loc  prs_loc year_month     fail_place  \\\n",
       "0               0      134    171.0      1.0    2021-01         Дуриан   \n",
       "1               3      134    166.0      1.0    2021-01       Маракуйя   \n",
       "2               4      240   1068.0      1.0    2021-01  Земляной орех   \n",
       "3               7      240   2200.0      1.0    2021-01       Маракуйя   \n",
       "4               9      240   2734.0      1.0    2021-01  Земляной орех   \n",
       "...           ...      ...      ...      ...        ...            ...   \n",
       "53034      147570      240   1837.0      1.0    2018-11  Земляной орех   \n",
       "53035      147572      145     84.0      1.0    2018-11  Земляной орех   \n",
       "53036      147573      145    573.0      1.0    2018-11  Земляной орех   \n",
       "53037      147574      240   1506.0      2.0    2018-11  Земляной орех   \n",
       "53038      147576      145     91.0      1.0    2018-11       Маракуйя   \n",
       "\n",
       "            fail_reason         fail_type  day  \n",
       "0             Момордика  Мармеладный плод   12  \n",
       "1              Либерика           Салакка   12  \n",
       "2               Абрикос      Пара-гуайява    5  \n",
       "3                Гранат  Мармеладный плод   17  \n",
       "4                Бананы     Гнетум гнемон    4  \n",
       "...                 ...               ...  ...  \n",
       "53034    Свечное дерево  Мармеладный плод   11  \n",
       "53035    Свечное дерево  Мармеладный плод   19  \n",
       "53036  Огуречное дерево  Мармеладный плод   14  \n",
       "53037  Кумкват овальный          Горлянка    6  \n",
       "53038              Луло  Мармеладный плод   29  \n",
       "\n",
       "[53039 rows x 9 columns]"
      ]
     },
     "execution_count": 3,
     "metadata": {},
     "output_type": "execute_result"
    }
   ],
   "source": [
    "data_goal"
   ]
  },
  {
   "cell_type": "code",
   "execution_count": 4,
   "id": "8dba3f8c",
   "metadata": {},
   "outputs": [
    {
     "data": {
      "text/html": [
       "<div>\n",
       "<style scoped>\n",
       "    .dataframe tbody tr th:only-of-type {\n",
       "        vertical-align: middle;\n",
       "    }\n",
       "\n",
       "    .dataframe tbody tr th {\n",
       "        vertical-align: top;\n",
       "    }\n",
       "\n",
       "    .dataframe thead th {\n",
       "        text-align: right;\n",
       "    }\n",
       "</style>\n",
       "<table border=\"1\" class=\"dataframe\">\n",
       "  <thead>\n",
       "    <tr style=\"text-align: right;\">\n",
       "      <th></th>\n",
       "      <th>Unnamed: 0</th>\n",
       "      <th>ser_loc</th>\n",
       "      <th>zns_loc</th>\n",
       "      <th>prs_loc</th>\n",
       "      <th>year_month</th>\n",
       "      <th>fail_place</th>\n",
       "      <th>fail_reason</th>\n",
       "      <th>fail_type</th>\n",
       "      <th>day</th>\n",
       "    </tr>\n",
       "  </thead>\n",
       "  <tbody>\n",
       "    <tr>\n",
       "      <th>88</th>\n",
       "      <td>222</td>\n",
       "      <td>240</td>\n",
       "      <td>2643.0</td>\n",
       "      <td>1.0</td>\n",
       "      <td>2021-01</td>\n",
       "      <td>Карамбола</td>\n",
       "      <td>Антильский крыжовник</td>\n",
       "      <td>Помпельмус</td>\n",
       "      <td>18</td>\n",
       "    </tr>\n",
       "    <tr>\n",
       "      <th>396</th>\n",
       "      <td>1062</td>\n",
       "      <td>530</td>\n",
       "      <td>1363.0</td>\n",
       "      <td>2.0</td>\n",
       "      <td>2021-01</td>\n",
       "      <td>Карамбола</td>\n",
       "      <td>Антильский крыжовник</td>\n",
       "      <td>Пара-гуайява</td>\n",
       "      <td>2</td>\n",
       "    </tr>\n",
       "    <tr>\n",
       "      <th>762</th>\n",
       "      <td>2028</td>\n",
       "      <td>123</td>\n",
       "      <td>1446.0</td>\n",
       "      <td>1.0</td>\n",
       "      <td>2021-01</td>\n",
       "      <td>Карамбола</td>\n",
       "      <td>Антильский крыжовник</td>\n",
       "      <td>Пара-гуайява</td>\n",
       "      <td>15</td>\n",
       "    </tr>\n",
       "    <tr>\n",
       "      <th>914</th>\n",
       "      <td>2446</td>\n",
       "      <td>240</td>\n",
       "      <td>862.0</td>\n",
       "      <td>1.0</td>\n",
       "      <td>2021-01</td>\n",
       "      <td>Карамбола</td>\n",
       "      <td>Антильский крыжовник</td>\n",
       "      <td>Пара-гуайява</td>\n",
       "      <td>16</td>\n",
       "    </tr>\n",
       "    <tr>\n",
       "      <th>1316</th>\n",
       "      <td>3465</td>\n",
       "      <td>244</td>\n",
       "      <td>122.0</td>\n",
       "      <td>1.0</td>\n",
       "      <td>2021-02</td>\n",
       "      <td>Карамбола</td>\n",
       "      <td>Антильский крыжовник</td>\n",
       "      <td>Пара-гуайява</td>\n",
       "      <td>3</td>\n",
       "    </tr>\n",
       "    <tr>\n",
       "      <th>...</th>\n",
       "      <td>...</td>\n",
       "      <td>...</td>\n",
       "      <td>...</td>\n",
       "      <td>...</td>\n",
       "      <td>...</td>\n",
       "      <td>...</td>\n",
       "      <td>...</td>\n",
       "      <td>...</td>\n",
       "      <td>...</td>\n",
       "    </tr>\n",
       "    <tr>\n",
       "      <th>52722</th>\n",
       "      <td>146749</td>\n",
       "      <td>240</td>\n",
       "      <td>16.0</td>\n",
       "      <td>1.0</td>\n",
       "      <td>2018-09</td>\n",
       "      <td>Карамбола</td>\n",
       "      <td>Антильский крыжовник</td>\n",
       "      <td>Пара-гуайява</td>\n",
       "      <td>29</td>\n",
       "    </tr>\n",
       "    <tr>\n",
       "      <th>52757</th>\n",
       "      <td>146910</td>\n",
       "      <td>226</td>\n",
       "      <td>995.0</td>\n",
       "      <td>2.0</td>\n",
       "      <td>2018-09</td>\n",
       "      <td>Карамбола</td>\n",
       "      <td>Антильский крыжовник</td>\n",
       "      <td>Помпельмус</td>\n",
       "      <td>2</td>\n",
       "    </tr>\n",
       "    <tr>\n",
       "      <th>52800</th>\n",
       "      <td>147073</td>\n",
       "      <td>240</td>\n",
       "      <td>34.0</td>\n",
       "      <td>1.0</td>\n",
       "      <td>2018-09</td>\n",
       "      <td>Карамбола</td>\n",
       "      <td>Антильский крыжовник</td>\n",
       "      <td>Пара-гуайява</td>\n",
       "      <td>27</td>\n",
       "    </tr>\n",
       "    <tr>\n",
       "      <th>52805</th>\n",
       "      <td>147090</td>\n",
       "      <td>240</td>\n",
       "      <td>1058.0</td>\n",
       "      <td>1.0</td>\n",
       "      <td>2018-09</td>\n",
       "      <td>Карамбола</td>\n",
       "      <td>Антильский крыжовник</td>\n",
       "      <td>Помпельмус</td>\n",
       "      <td>2</td>\n",
       "    </tr>\n",
       "    <tr>\n",
       "      <th>53001</th>\n",
       "      <td>147517</td>\n",
       "      <td>123</td>\n",
       "      <td>1370.0</td>\n",
       "      <td>1.0</td>\n",
       "      <td>2018-11</td>\n",
       "      <td>Карамбола</td>\n",
       "      <td>Антильский крыжовник</td>\n",
       "      <td>Салакка</td>\n",
       "      <td>13</td>\n",
       "    </tr>\n",
       "  </tbody>\n",
       "</table>\n",
       "<p>721 rows × 9 columns</p>\n",
       "</div>"
      ],
      "text/plain": [
       "       Unnamed: 0  ser_loc  zns_loc  prs_loc year_month fail_place  \\\n",
       "88            222      240   2643.0      1.0    2021-01  Карамбола   \n",
       "396          1062      530   1363.0      2.0    2021-01  Карамбола   \n",
       "762          2028      123   1446.0      1.0    2021-01  Карамбола   \n",
       "914          2446      240    862.0      1.0    2021-01  Карамбола   \n",
       "1316         3465      244    122.0      1.0    2021-02  Карамбола   \n",
       "...           ...      ...      ...      ...        ...        ...   \n",
       "52722      146749      240     16.0      1.0    2018-09  Карамбола   \n",
       "52757      146910      226    995.0      2.0    2018-09  Карамбола   \n",
       "52800      147073      240     34.0      1.0    2018-09  Карамбола   \n",
       "52805      147090      240   1058.0      1.0    2018-09  Карамбола   \n",
       "53001      147517      123   1370.0      1.0    2018-11  Карамбола   \n",
       "\n",
       "                fail_reason     fail_type  day  \n",
       "88     Антильский крыжовник    Помпельмус   18  \n",
       "396    Антильский крыжовник  Пара-гуайява    2  \n",
       "762    Антильский крыжовник  Пара-гуайява   15  \n",
       "914    Антильский крыжовник  Пара-гуайява   16  \n",
       "1316   Антильский крыжовник  Пара-гуайява    3  \n",
       "...                     ...           ...  ...  \n",
       "52722  Антильский крыжовник  Пара-гуайява   29  \n",
       "52757  Антильский крыжовник    Помпельмус    2  \n",
       "52800  Антильский крыжовник  Пара-гуайява   27  \n",
       "52805  Антильский крыжовник    Помпельмус    2  \n",
       "53001  Антильский крыжовник       Салакка   13  \n",
       "\n",
       "[721 rows x 9 columns]"
      ]
     },
     "execution_count": 4,
     "metadata": {},
     "output_type": "execute_result"
    }
   ],
   "source": [
    "#датасет по моему фрукту\n",
    "#1.2\n",
    "data_goal=data_goal[data_goal['fail_reason'] == 'Антильский крыжовник']\n",
    "data_goal"
   ]
  },
  {
   "cell_type": "code",
   "execution_count": 5,
   "id": "c3c9253f",
   "metadata": {},
   "outputs": [
    {
     "name": "stdout",
     "output_type": "stream",
     "text": [
      "       ser_loc  zns_loc  prs_loc year_month  day\n",
      "88         240   2643.0      1.0    2021-01   18\n",
      "396        530   1363.0      2.0    2021-01    2\n",
      "762        123   1446.0      1.0    2021-01   15\n",
      "914        240    862.0      1.0    2021-01   16\n",
      "1316       244    122.0      1.0    2021-02    3\n",
      "...        ...      ...      ...        ...  ...\n",
      "52722      240     16.0      1.0    2018-09   29\n",
      "52757      226    995.0      2.0    2018-09    2\n",
      "52800      240     34.0      1.0    2018-09   27\n",
      "52805      240   1058.0      1.0    2018-09    2\n",
      "53001      123   1370.0      1.0    2018-11   13\n",
      "\n",
      "[721 rows x 5 columns]\n"
     ]
    },
    {
     "name": "stderr",
     "output_type": "stream",
     "text": [
      "C:\\Users\\Fenomen21\\AppData\\Local\\Temp\\ipykernel_14676\\2466494387.py:10: SettingWithCopyWarning: \n",
      "A value is trying to be set on a copy of a slice from a DataFrame.\n",
      "Try using .loc[row_indexer,col_indexer] = value instead\n",
      "\n",
      "See the caveats in the documentation: https://pandas.pydata.org/pandas-docs/stable/user_guide/indexing.html#returning-a-view-versus-a-copy\n",
      "  data_goal['day'] = [int(x) for x in data_goal['day']]\n",
      "C:\\Users\\Fenomen21\\AppData\\Local\\Temp\\ipykernel_14676\\2466494387.py:15: SettingWithCopyWarning: \n",
      "A value is trying to be set on a copy of a slice from a DataFrame.\n",
      "Try using .loc[row_indexer,col_indexer] = value instead\n",
      "\n",
      "See the caveats in the documentation: https://pandas.pydata.org/pandas-docs/stable/user_guide/indexing.html#returning-a-view-versus-a-copy\n",
      "  data_goal['year_month'] = pd.to_datetime(data_goal['year_month'], format='%Y-%m')\n",
      "C:\\Users\\Fenomen21\\AppData\\Local\\Temp\\ipykernel_14676\\2466494387.py:17: SettingWithCopyWarning: \n",
      "A value is trying to be set on a copy of a slice from a DataFrame.\n",
      "Try using .loc[row_indexer,col_indexer] = value instead\n",
      "\n",
      "See the caveats in the documentation: https://pandas.pydata.org/pandas-docs/stable/user_guide/indexing.html#returning-a-view-versus-a-copy\n",
      "  data_goal['year_month'] = data_goal['year_month'].dt.to_period('M')\n"
     ]
    }
   ],
   "source": [
    "#Преобразование массива goal_cipher, путем удаления ненужных столбцов:\n",
    "#fail_place; fail_reason; fail_type\n",
    "data_goal = data_goal[['ser_loc','zns_loc','prs_loc','year_month', 'day']]\n",
    "print(data_goal)\n",
    "\n",
    "#Перевод названий колонок в нижний регистр\n",
    "data_goal.columns = [x.lower() for x in data_goal.columns]\n",
    "\n",
    "#Преобразования типов данных в int() в столбце day\n",
    "data_goal['day'] = [int(x) for x in data_goal['day']]\n",
    "data_feature.head()\n",
    "\n",
    "#Обработка данных типа date() в столбце year_month\n",
    "data_feature['year_month'] = pd.to_datetime(data_feature['year_month'], format='%Y-%m')\n",
    "data_goal['year_month'] = pd.to_datetime(data_goal['year_month'], format='%Y-%m')\n",
    "data_feature['year_month'] = data_feature['year_month'].dt.to_period('M')\n",
    "data_goal['year_month'] = data_goal['year_month'].dt.to_period('M')"
   ]
  },
  {
   "cell_type": "markdown",
   "id": "8c6489b4",
   "metadata": {},
   "source": [
    "### Задание 2"
   ]
  },
  {
   "attachments": {},
   "cell_type": "markdown",
   "id": "9431efa3",
   "metadata": {},
   "source": [
    "Объединения массива целей с массивом признаков"
   ]
  },
  {
   "cell_type": "code",
   "execution_count": 6,
   "id": "e1b9c0b2",
   "metadata": {},
   "outputs": [
    {
     "data": {
      "text/html": [
       "<div>\n",
       "<style scoped>\n",
       "    .dataframe tbody tr th:only-of-type {\n",
       "        vertical-align: middle;\n",
       "    }\n",
       "\n",
       "    .dataframe tbody tr th {\n",
       "        vertical-align: top;\n",
       "    }\n",
       "\n",
       "    .dataframe thead th {\n",
       "        text-align: right;\n",
       "    }\n",
       "</style>\n",
       "<table border=\"1\" class=\"dataframe\">\n",
       "  <thead>\n",
       "    <tr style=\"text-align: right;\">\n",
       "      <th></th>\n",
       "      <th>ser_loc</th>\n",
       "      <th>zns_loc</th>\n",
       "      <th>prs_loc</th>\n",
       "      <th>year_month</th>\n",
       "      <th>day</th>\n",
       "      <th>count_fail</th>\n",
       "      <th>107_repair_count</th>\n",
       "      <th>307_repair_count</th>\n",
       "      <th>308_repair_count</th>\n",
       "      <th>309_repair_count</th>\n",
       "      <th>...</th>\n",
       "      <th>тл-2к_y</th>\n",
       "      <th>тл-2к1</th>\n",
       "      <th>эд118а</th>\n",
       "      <th>эд118б</th>\n",
       "      <th>эдп810</th>\n",
       "      <th>эк-810ч</th>\n",
       "      <th>экг-8ж</th>\n",
       "      <th>power</th>\n",
       "      <th>last_of_p_data</th>\n",
       "      <th>last_of_in_invent</th>\n",
       "    </tr>\n",
       "  </thead>\n",
       "  <tbody>\n",
       "    <tr>\n",
       "      <th>0</th>\n",
       "      <td>240</td>\n",
       "      <td>2643.0</td>\n",
       "      <td>1.0</td>\n",
       "      <td>2021-01</td>\n",
       "      <td>18.0</td>\n",
       "      <td>NaN</td>\n",
       "      <td>NaN</td>\n",
       "      <td>NaN</td>\n",
       "      <td>NaN</td>\n",
       "      <td>NaN</td>\n",
       "      <td>...</td>\n",
       "      <td>NaN</td>\n",
       "      <td>NaN</td>\n",
       "      <td>NaN</td>\n",
       "      <td>NaN</td>\n",
       "      <td>NaN</td>\n",
       "      <td>NaN</td>\n",
       "      <td>NaN</td>\n",
       "      <td>NaN</td>\n",
       "      <td>NaN</td>\n",
       "      <td>NaN</td>\n",
       "    </tr>\n",
       "    <tr>\n",
       "      <th>1</th>\n",
       "      <td>530</td>\n",
       "      <td>1363.0</td>\n",
       "      <td>2.0</td>\n",
       "      <td>2021-01</td>\n",
       "      <td>2.0</td>\n",
       "      <td>NaN</td>\n",
       "      <td>NaN</td>\n",
       "      <td>NaN</td>\n",
       "      <td>NaN</td>\n",
       "      <td>NaN</td>\n",
       "      <td>...</td>\n",
       "      <td>NaN</td>\n",
       "      <td>NaN</td>\n",
       "      <td>NaN</td>\n",
       "      <td>NaN</td>\n",
       "      <td>NaN</td>\n",
       "      <td>NaN</td>\n",
       "      <td>NaN</td>\n",
       "      <td>NaN</td>\n",
       "      <td>NaN</td>\n",
       "      <td>NaN</td>\n",
       "    </tr>\n",
       "    <tr>\n",
       "      <th>2</th>\n",
       "      <td>123</td>\n",
       "      <td>1446.0</td>\n",
       "      <td>1.0</td>\n",
       "      <td>2021-01</td>\n",
       "      <td>15.0</td>\n",
       "      <td>0.0</td>\n",
       "      <td>0.0</td>\n",
       "      <td>0.0</td>\n",
       "      <td>0.0</td>\n",
       "      <td>0.0</td>\n",
       "      <td>...</td>\n",
       "      <td>0.0</td>\n",
       "      <td>0.0</td>\n",
       "      <td>0.0</td>\n",
       "      <td>0.0</td>\n",
       "      <td>0.0</td>\n",
       "      <td>0.0</td>\n",
       "      <td>0.0</td>\n",
       "      <td>0.0</td>\n",
       "      <td>0.0</td>\n",
       "      <td>0.0</td>\n",
       "    </tr>\n",
       "    <tr>\n",
       "      <th>3</th>\n",
       "      <td>240</td>\n",
       "      <td>862.0</td>\n",
       "      <td>1.0</td>\n",
       "      <td>2021-01</td>\n",
       "      <td>16.0</td>\n",
       "      <td>0.0</td>\n",
       "      <td>0.0</td>\n",
       "      <td>0.0</td>\n",
       "      <td>2.0</td>\n",
       "      <td>0.0</td>\n",
       "      <td>...</td>\n",
       "      <td>0.0</td>\n",
       "      <td>0.0</td>\n",
       "      <td>0.0</td>\n",
       "      <td>0.0</td>\n",
       "      <td>0.0</td>\n",
       "      <td>0.0</td>\n",
       "      <td>0.0</td>\n",
       "      <td>0.0</td>\n",
       "      <td>0.0</td>\n",
       "      <td>0.0</td>\n",
       "    </tr>\n",
       "    <tr>\n",
       "      <th>4</th>\n",
       "      <td>244</td>\n",
       "      <td>122.0</td>\n",
       "      <td>1.0</td>\n",
       "      <td>2021-02</td>\n",
       "      <td>3.0</td>\n",
       "      <td>0.0</td>\n",
       "      <td>0.0</td>\n",
       "      <td>0.0</td>\n",
       "      <td>0.0</td>\n",
       "      <td>0.0</td>\n",
       "      <td>...</td>\n",
       "      <td>0.0</td>\n",
       "      <td>0.0</td>\n",
       "      <td>0.0</td>\n",
       "      <td>0.0</td>\n",
       "      <td>0.0</td>\n",
       "      <td>0.0</td>\n",
       "      <td>0.0</td>\n",
       "      <td>0.0</td>\n",
       "      <td>0.0</td>\n",
       "      <td>0.0</td>\n",
       "    </tr>\n",
       "    <tr>\n",
       "      <th>...</th>\n",
       "      <td>...</td>\n",
       "      <td>...</td>\n",
       "      <td>...</td>\n",
       "      <td>...</td>\n",
       "      <td>...</td>\n",
       "      <td>...</td>\n",
       "      <td>...</td>\n",
       "      <td>...</td>\n",
       "      <td>...</td>\n",
       "      <td>...</td>\n",
       "      <td>...</td>\n",
       "      <td>...</td>\n",
       "      <td>...</td>\n",
       "      <td>...</td>\n",
       "      <td>...</td>\n",
       "      <td>...</td>\n",
       "      <td>...</td>\n",
       "      <td>...</td>\n",
       "      <td>...</td>\n",
       "      <td>...</td>\n",
       "      <td>...</td>\n",
       "    </tr>\n",
       "    <tr>\n",
       "      <th>167914</th>\n",
       "      <td>693</td>\n",
       "      <td>74.0</td>\n",
       "      <td>3.0</td>\n",
       "      <td>2019-03</td>\n",
       "      <td>NaN</td>\n",
       "      <td>0.0</td>\n",
       "      <td>0.0</td>\n",
       "      <td>0.0</td>\n",
       "      <td>0.0</td>\n",
       "      <td>0.0</td>\n",
       "      <td>...</td>\n",
       "      <td>0.0</td>\n",
       "      <td>0.0</td>\n",
       "      <td>0.0</td>\n",
       "      <td>0.0</td>\n",
       "      <td>0.0</td>\n",
       "      <td>0.0</td>\n",
       "      <td>0.0</td>\n",
       "      <td>2206.0</td>\n",
       "      <td>0.0</td>\n",
       "      <td>0.0</td>\n",
       "    </tr>\n",
       "    <tr>\n",
       "      <th>167915</th>\n",
       "      <td>693</td>\n",
       "      <td>74.0</td>\n",
       "      <td>3.0</td>\n",
       "      <td>2021-04</td>\n",
       "      <td>NaN</td>\n",
       "      <td>0.0</td>\n",
       "      <td>0.0</td>\n",
       "      <td>0.0</td>\n",
       "      <td>0.0</td>\n",
       "      <td>0.0</td>\n",
       "      <td>...</td>\n",
       "      <td>0.0</td>\n",
       "      <td>0.0</td>\n",
       "      <td>0.0</td>\n",
       "      <td>0.0</td>\n",
       "      <td>0.0</td>\n",
       "      <td>0.0</td>\n",
       "      <td>0.0</td>\n",
       "      <td>2206.0</td>\n",
       "      <td>51.0</td>\n",
       "      <td>51.0</td>\n",
       "    </tr>\n",
       "    <tr>\n",
       "      <th>167916</th>\n",
       "      <td>693</td>\n",
       "      <td>74.0</td>\n",
       "      <td>3.0</td>\n",
       "      <td>2021-05</td>\n",
       "      <td>NaN</td>\n",
       "      <td>0.0</td>\n",
       "      <td>0.0</td>\n",
       "      <td>0.0</td>\n",
       "      <td>0.0</td>\n",
       "      <td>0.0</td>\n",
       "      <td>...</td>\n",
       "      <td>0.0</td>\n",
       "      <td>0.0</td>\n",
       "      <td>0.0</td>\n",
       "      <td>0.0</td>\n",
       "      <td>0.0</td>\n",
       "      <td>0.0</td>\n",
       "      <td>0.0</td>\n",
       "      <td>2206.0</td>\n",
       "      <td>55.0</td>\n",
       "      <td>55.0</td>\n",
       "    </tr>\n",
       "    <tr>\n",
       "      <th>167917</th>\n",
       "      <td>693</td>\n",
       "      <td>74.0</td>\n",
       "      <td>3.0</td>\n",
       "      <td>2021-07</td>\n",
       "      <td>NaN</td>\n",
       "      <td>0.0</td>\n",
       "      <td>0.0</td>\n",
       "      <td>0.0</td>\n",
       "      <td>0.0</td>\n",
       "      <td>0.0</td>\n",
       "      <td>...</td>\n",
       "      <td>0.0</td>\n",
       "      <td>0.0</td>\n",
       "      <td>0.0</td>\n",
       "      <td>0.0</td>\n",
       "      <td>0.0</td>\n",
       "      <td>0.0</td>\n",
       "      <td>0.0</td>\n",
       "      <td>2206.0</td>\n",
       "      <td>64.0</td>\n",
       "      <td>64.0</td>\n",
       "    </tr>\n",
       "    <tr>\n",
       "      <th>167918</th>\n",
       "      <td>693</td>\n",
       "      <td>74.0</td>\n",
       "      <td>3.0</td>\n",
       "      <td>2021-10</td>\n",
       "      <td>NaN</td>\n",
       "      <td>0.0</td>\n",
       "      <td>0.0</td>\n",
       "      <td>0.0</td>\n",
       "      <td>0.0</td>\n",
       "      <td>0.0</td>\n",
       "      <td>...</td>\n",
       "      <td>0.0</td>\n",
       "      <td>0.0</td>\n",
       "      <td>0.0</td>\n",
       "      <td>0.0</td>\n",
       "      <td>0.0</td>\n",
       "      <td>0.0</td>\n",
       "      <td>0.0</td>\n",
       "      <td>2206.0</td>\n",
       "      <td>77.0</td>\n",
       "      <td>77.0</td>\n",
       "    </tr>\n",
       "  </tbody>\n",
       "</table>\n",
       "<p>167919 rows × 250 columns</p>\n",
       "</div>"
      ],
      "text/plain": [
       "        ser_loc  zns_loc  prs_loc year_month   day  count_fail  \\\n",
       "0           240   2643.0      1.0    2021-01  18.0         NaN   \n",
       "1           530   1363.0      2.0    2021-01   2.0         NaN   \n",
       "2           123   1446.0      1.0    2021-01  15.0         0.0   \n",
       "3           240    862.0      1.0    2021-01  16.0         0.0   \n",
       "4           244    122.0      1.0    2021-02   3.0         0.0   \n",
       "...         ...      ...      ...        ...   ...         ...   \n",
       "167914      693     74.0      3.0    2019-03   NaN         0.0   \n",
       "167915      693     74.0      3.0    2021-04   NaN         0.0   \n",
       "167916      693     74.0      3.0    2021-05   NaN         0.0   \n",
       "167917      693     74.0      3.0    2021-07   NaN         0.0   \n",
       "167918      693     74.0      3.0    2021-10   NaN         0.0   \n",
       "\n",
       "        107_repair_count  307_repair_count  308_repair_count  \\\n",
       "0                    NaN               NaN               NaN   \n",
       "1                    NaN               NaN               NaN   \n",
       "2                    0.0               0.0               0.0   \n",
       "3                    0.0               0.0               2.0   \n",
       "4                    0.0               0.0               0.0   \n",
       "...                  ...               ...               ...   \n",
       "167914               0.0               0.0               0.0   \n",
       "167915               0.0               0.0               0.0   \n",
       "167916               0.0               0.0               0.0   \n",
       "167917               0.0               0.0               0.0   \n",
       "167918               0.0               0.0               0.0   \n",
       "\n",
       "        309_repair_count  ...  тл-2к_y  тл-2к1  эд118а  эд118б  эдп810  \\\n",
       "0                    NaN  ...      NaN     NaN     NaN     NaN     NaN   \n",
       "1                    NaN  ...      NaN     NaN     NaN     NaN     NaN   \n",
       "2                    0.0  ...      0.0     0.0     0.0     0.0     0.0   \n",
       "3                    0.0  ...      0.0     0.0     0.0     0.0     0.0   \n",
       "4                    0.0  ...      0.0     0.0     0.0     0.0     0.0   \n",
       "...                  ...  ...      ...     ...     ...     ...     ...   \n",
       "167914               0.0  ...      0.0     0.0     0.0     0.0     0.0   \n",
       "167915               0.0  ...      0.0     0.0     0.0     0.0     0.0   \n",
       "167916               0.0  ...      0.0     0.0     0.0     0.0     0.0   \n",
       "167917               0.0  ...      0.0     0.0     0.0     0.0     0.0   \n",
       "167918               0.0  ...      0.0     0.0     0.0     0.0     0.0   \n",
       "\n",
       "        эк-810ч  экг-8ж   power  last_of_p_data  last_of_in_invent  \n",
       "0           NaN     NaN     NaN             NaN                NaN  \n",
       "1           NaN     NaN     NaN             NaN                NaN  \n",
       "2           0.0     0.0     0.0             0.0                0.0  \n",
       "3           0.0     0.0     0.0             0.0                0.0  \n",
       "4           0.0     0.0     0.0             0.0                0.0  \n",
       "...         ...     ...     ...             ...                ...  \n",
       "167914      0.0     0.0  2206.0             0.0                0.0  \n",
       "167915      0.0     0.0  2206.0            51.0               51.0  \n",
       "167916      0.0     0.0  2206.0            55.0               55.0  \n",
       "167917      0.0     0.0  2206.0            64.0               64.0  \n",
       "167918      0.0     0.0  2206.0            77.0               77.0  \n",
       "\n",
       "[167919 rows x 250 columns]"
      ]
     },
     "execution_count": 6,
     "metadata": {},
     "output_type": "execute_result"
    }
   ],
   "source": [
    "goal_feature = data_goal.merge(data_feature, on=['ser_loc', 'zns_loc', 'prs_loc','year_month'],how = 'outer')\n",
    "goal_feature"
   ]
  },
  {
   "attachments": {},
   "cell_type": "markdown",
   "id": "d15982bf",
   "metadata": {},
   "source": [
    "Поиск и чистка плохих столбцов"
   ]
  },
  {
   "cell_type": "code",
   "execution_count": 7,
   "id": "914b783b",
   "metadata": {},
   "outputs": [],
   "source": [
    "data_new = goal_feature.dropna(subset = ['count_fail'])"
   ]
  },
  {
   "cell_type": "code",
   "execution_count": 8,
   "id": "d1bff5db",
   "metadata": {},
   "outputs": [],
   "source": [
    "data_new = data_new.drop(columns=['date_repair_finish_y_1',\n",
    "       'date_repair_finish_x_2',\n",
    "       'date_repair_finish_y_2', 'date_repair_finish', \n",
    "       'date_repair_finish_x_1'])"
   ]
  },
  {
   "cell_type": "markdown",
   "id": "2c34c82c",
   "metadata": {},
   "source": [
    "### Задание 3"
   ]
  },
  {
   "cell_type": "code",
   "execution_count": 9,
   "id": "1d2e595c",
   "metadata": {},
   "outputs": [
    {
     "data": {
      "text/plain": [
       "167196"
      ]
     },
     "execution_count": 9,
     "metadata": {},
     "output_type": "execute_result"
    }
   ],
   "source": [
    "#количество пропусков\n",
    "data_new['day'].isnull().sum()"
   ]
  },
  {
   "cell_type": "code",
   "execution_count": 10,
   "id": "c301337a",
   "metadata": {},
   "outputs": [
    {
     "data": {
      "text/plain": [
       "0    167196\n",
       "1       176\n",
       "Name: day, dtype: int64"
      ]
     },
     "execution_count": 10,
     "metadata": {},
     "output_type": "execute_result"
    }
   ],
   "source": [
    "#заполнение пропусков в столбце day нулями, если данные есть то единицы\n",
    "data_new['day'] = [1 if x > 0 else 0 for x in data_new['day']]\n",
    "data_new['day'].value_counts()"
   ]
  },
  {
   "cell_type": "markdown",
   "id": "2e35ea76",
   "metadata": {},
   "source": [
    "### Задание 4"
   ]
  },
  {
   "cell_type": "markdown",
   "id": "14d913d2",
   "metadata": {},
   "source": [
    "#### Выбираю модель классификации"
   ]
  },
  {
   "cell_type": "markdown",
   "id": "ef76a462",
   "metadata": {},
   "source": [
    "### Задание 5"
   ]
  },
  {
   "cell_type": "markdown",
   "id": "914163f1",
   "metadata": {},
   "source": [
    "#### Сделал в третьем задании"
   ]
  },
  {
   "cell_type": "markdown",
   "id": "858809ce",
   "metadata": {},
   "source": [
    "### Задание 6"
   ]
  },
  {
   "cell_type": "markdown",
   "id": "b0b00496",
   "metadata": {},
   "source": [
    "#### Нормирование данных"
   ]
  },
  {
   "cell_type": "code",
   "execution_count": 11,
   "id": "68307bfe",
   "metadata": {},
   "outputs": [],
   "source": [
    "df_ind = data_new.set_index(['ser_loc','zns_loc','prs_loc','year_month'])"
   ]
  },
  {
   "cell_type": "code",
   "execution_count": 12,
   "id": "e35f292a",
   "metadata": {},
   "outputs": [],
   "source": [
    "#нормирование данных\n",
    "from sklearn import preprocessing\n",
    "\n",
    "scaler = preprocessing.MinMaxScaler()\n",
    "scaled = scaler.fit_transform(df_ind) \n",
    "data_norm = pd.DataFrame(scaled, columns=df_ind.columns,index=df_ind.index)"
   ]
  },
  {
   "cell_type": "code",
   "execution_count": 13,
   "id": "6927fa80",
   "metadata": {},
   "outputs": [],
   "source": [
    "#Разделим набор данных на признаки и метки\n",
    "X = data_norm.drop(columns=['day'])\n",
    "y = data_norm[['day']]"
   ]
  },
  {
   "cell_type": "code",
   "execution_count": 15,
   "id": "b58df696",
   "metadata": {},
   "outputs": [],
   "source": [
    "sm = SMOTE(random_state=42, k_neighbors=5)\n",
    "X_res, y_res = sm.fit_resample(X, y)"
   ]
  },
  {
   "cell_type": "code",
   "execution_count": 16,
   "id": "24ad9017",
   "metadata": {},
   "outputs": [],
   "source": [
    "#тестовые и тренировочные выборки\n",
    "X_train, X_test, y_train, y_test = train_test_split(\\\n",
    "X_res, y_res, test_size=0.33, random_state=42)"
   ]
  },
  {
   "cell_type": "markdown",
   "id": "41e80394",
   "metadata": {},
   "source": [
    "### Задание 7"
   ]
  },
  {
   "cell_type": "markdown",
   "id": "15454a0d",
   "metadata": {},
   "source": [
    "#### Обучение по модели"
   ]
  },
  {
   "cell_type": "code",
   "execution_count": 17,
   "id": "aacb77be",
   "metadata": {},
   "outputs": [],
   "source": [
    "from catboost import CatBoostClassifier, Pool\n",
    "\n",
    "clf = CatBoostClassifier(\n",
    "    iterations=100, \n",
    "    learning_rate=0.1, \n",
    "    loss_function='CrossEntropy'\n",
    ")"
   ]
  },
  {
   "cell_type": "code",
   "execution_count": 18,
   "id": "0cab422c",
   "metadata": {},
   "outputs": [
    {
     "data": {
      "text/plain": [
       "<catboost.core.CatBoostClassifier at 0x1c48bfc2c80>"
      ]
     },
     "execution_count": 18,
     "metadata": {},
     "output_type": "execute_result"
    }
   ],
   "source": [
    "clf.fit(X_train, y_train,         \n",
    "        eval_set=(X_test, y_test), \n",
    "        verbose=False\n",
    ")"
   ]
  },
  {
   "cell_type": "markdown",
   "id": "42677741",
   "metadata": {},
   "source": [
    "#### Проверка точности модели, на нормированных данных"
   ]
  },
  {
   "cell_type": "code",
   "execution_count": 19,
   "id": "65ac7a92",
   "metadata": {},
   "outputs": [
    {
     "data": {
      "text/plain": [
       "0.9994144779294027"
      ]
     },
     "execution_count": 19,
     "metadata": {},
     "output_type": "execute_result"
    }
   ],
   "source": [
    "clf.score(X, y)"
   ]
  },
  {
   "cell_type": "markdown",
   "id": "05e381b9",
   "metadata": {},
   "source": [
    "#### Проверка точности, на тестовых данных"
   ]
  },
  {
   "cell_type": "code",
   "execution_count": 20,
   "id": "a4844550",
   "metadata": {},
   "outputs": [
    {
     "data": {
      "text/plain": [
       "0.9992478477571364"
      ]
     },
     "execution_count": 20,
     "metadata": {},
     "output_type": "execute_result"
    }
   ],
   "source": [
    "clf.score(X_test, y_test) "
   ]
  },
  {
   "cell_type": "markdown",
   "id": "64857e16",
   "metadata": {},
   "source": [
    "#### Проверка точности модели, метрикой f1-score"
   ]
  },
  {
   "cell_type": "code",
   "execution_count": 21,
   "id": "f9fbd3db",
   "metadata": {},
   "outputs": [
    {
     "data": {
      "text/plain": [
       "0.72"
      ]
     },
     "execution_count": 21,
     "metadata": {},
     "output_type": "execute_result"
    }
   ],
   "source": [
    "from sklearn.metrics import f1_score\n",
    "\n",
    "f1_score(y['day'], clf.predict(X))"
   ]
  },
  {
   "cell_type": "markdown",
   "id": "0a4ba0b6",
   "metadata": {},
   "source": [
    "#### Построение матрицы confusion"
   ]
  },
  {
   "cell_type": "code",
   "execution_count": 22,
   "id": "50268aaf",
   "metadata": {},
   "outputs": [
    {
     "data": {
      "text/plain": [
       "<sklearn.metrics._plot.confusion_matrix.ConfusionMatrixDisplay at 0x1c4bebfd990>"
      ]
     },
     "execution_count": 22,
     "metadata": {},
     "output_type": "execute_result"
    },
    {
     "data": {
      "image/png": "[encoded data removed]",
      "text/plain": [
       "<Figure size 800x550 with 2 Axes>"
      ]
     },
     "metadata": {},
     "output_type": "display_data"
    }
   ],
   "source": [
    "from sklearn.metrics import confusion_matrix, ConfusionMatrixDisplay\n",
    "\n",
    "cm = confusion_matrix(y['day'], clf.predict(X), labels=clf.classes_)\n",
    "disp_rf = ConfusionMatrixDisplay(confusion_matrix=cm, display_labels=clf.classes_)\n",
    "disp_rf.plot()"
   ]
  },
  {
   "cell_type": "code",
   "execution_count": 23,
   "id": "923c9534",
   "metadata": {},
   "outputs": [
    {
     "data": {
      "image/png": "[encoded data removed]",
      "text/plain": [
       "<Figure size 800x550 with 2 Axes>"
      ]
     },
     "metadata": {},
     "output_type": "display_data"
    }
   ],
   "source": [
    "cmm = confusion_matrix(y_test, clf.predict(X_test), labels=clf.classes_)\n",
    "disp = ConfusionMatrixDisplay(confusion_matrix=cmm,\n",
    "                              display_labels=clf.classes_)\n",
    "\n",
    "disp.plot()\n",
    "plt.show()"
   ]
  },
  {
   "cell_type": "markdown",
   "id": "8983dbec",
   "metadata": {},
   "source": [
    "### Задание 8"
   ]
  },
  {
   "cell_type": "code",
   "execution_count": 24,
   "id": "cd849069",
   "metadata": {},
   "outputs": [],
   "source": [
    "#8.1\n",
    "def f1_score_my():\n",
    "    tn, fp, fn, tp = cm.ravel()\n",
    "    precission = tp/(tp+fp)\n",
    "    recall = tp/(tp+fn)\n",
    "    return 2*(precission*recall)/(precission+recall)\n"
   ]
  },
  {
   "cell_type": "code",
   "execution_count": 25,
   "id": "67b1a22a",
   "metadata": {},
   "outputs": [
    {
     "name": "stdout",
     "output_type": "stream",
     "text": [
      "Встроенная функция: 0.72, моя функция:0.72\n",
      "Отличий нет\n"
     ]
    }
   ],
   "source": [
    "#8.2\n",
    "print(f\"Встроенная функция: {f1_score(y['day'], clf.predict(X))}, моя функция:{f1_score_my()}\")\n",
    "print(\"Отличий нет\")"
   ]
  }
 ],
 "metadata": {
  "kernelspec": {
   "display_name": "Python 3",
   "language": "python",
   "name": "python3"
  },
  "language_info": {
   "codemirror_mode": {
    "name": "ipython",
    "version": 3
   },
   "file_extension": ".py",
   "mimetype": "text/x-python",
   "name": "python",
   "nbconvert_exporter": "python",
   "pygments_lexer": "ipython3",
   "version": "3.10.5"
  },
  "vscode": {
   "interpreter": {
    "hash": "f6c89797d8c4b12d7e5ecfb0936e96f944697db9754a68e72aa9e4056cadc5f1"
   }
  }
 },
 "nbformat": 4,
 "nbformat_minor": 5
}
